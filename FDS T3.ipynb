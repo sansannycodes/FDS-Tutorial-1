{
 "cells": [
  {
   "cell_type": "code",
   "execution_count": 14,
   "id": "a25b8056-96fd-4649-8238-cb635c2ad219",
   "metadata": {},
   "outputs": [
    {
     "name": "stdout",
     "output_type": "stream",
     "text": [
      "[1 2 3 4 5 6]\n"
     ]
    }
   ],
   "source": [
    "import numpy as np\n",
    "arr1= np.array([1,2,3])\n",
    "arr2= np.array([4,5,6])\n",
    "arr= np.hstack((arr1,arr2))\n",
    "print (arr)\n"
   ]
  },
  {
   "cell_type": "code",
   "execution_count": 16,
   "id": "fb29ba2d-80d0-4954-8dc4-5e5c76c4ec1d",
   "metadata": {},
   "outputs": [
    {
     "name": "stdout",
     "output_type": "stream",
     "text": [
      "[array([1, 2]), array([3, 4]), array([5, 6])]\n"
     ]
    }
   ],
   "source": [
    "import numpy as np\n",
    "arr= np.array([1,2,3,4,5,6])\n",
    "newarr=np.array_split(arr,3)\n",
    "print (newarr)"
   ]
  },
  {
   "cell_type": "code",
   "execution_count": 20,
   "id": "c5085428-2524-4581-b289-9e32599048ba",
   "metadata": {},
   "outputs": [
    {
     "name": "stdout",
     "output_type": "stream",
     "text": [
      "[array([[1, 2, 3]]), array([[5, 6, 7]]), array([], shape=(0, 3), dtype=int32), array([], shape=(0, 3), dtype=int32), array([], shape=(0, 3), dtype=int32), array([], shape=(0, 3), dtype=int32)]\n"
     ]
    }
   ],
   "source": [
    "import numpy as np\n",
    "arr= np.array([1,2,3,4,5,6])\n",
    "newarr=np.array_split(arr,3)\n",
    "print (newarr)"
   ]
  },
  {
   "cell_type": "code",
   "execution_count": 28,
   "id": "3793219b-a897-4c78-ad1c-c784697980e8",
   "metadata": {},
   "outputs": [
    {
     "name": "stdout",
     "output_type": "stream",
     "text": [
      "[array([[1, 2, 3]]), array([[4, 5, 6]]), array([], shape=(0, 3), dtype=int32), array([], shape=(0, 3), dtype=int32), array([], shape=(0, 3), dtype=int32), array([], shape=(0, 3), dtype=int32)]\n"
     ]
    }
   ],
   "source": [
    "import numpy as np\n",
    "arr= np.array([[1,2,3],[4,5,6]])\n",
    "newarr=np.array_split(arr,6)\n",
    "print (newarr)"
   ]
  },
  {
   "cell_type": "code",
   "execution_count": 37,
   "id": "b17d0945-9539-40db-8fac-22bc586a629a",
   "metadata": {},
   "outputs": [],
   "source": [
    "import numpy as np\n",
    "#LEARN vsplit and hsplit"
   ]
  },
  {
   "cell_type": "code",
   "execution_count": 39,
   "id": "a3099e3c-ade8-411d-a77b-ea787b76038e",
   "metadata": {},
   "outputs": [
    {
     "name": "stdout",
     "output_type": "stream",
     "text": [
      "Trace of A: 11\n"
     ]
    }
   ],
   "source": [
    "import numpy as np\n",
    "A = np.array([[6,1,1],[4,-2,5],[2,8,7]])\n",
    "print (\"Trace of A:\",np.trace(A))\n",
    "print (\"Rank of A:\",np.linalg.matrix_rank(A))"
   ]
  },
  {
   "cell_type": "code",
   "execution_count": 43,
   "id": "c8321fe0-751e-4137-a376-9f697a74737d",
   "metadata": {},
   "outputs": [
    {
     "name": "stdout",
     "output_type": "stream",
     "text": [
      "[ 4.31662479e+00 -2.31662479e+00  2.13869201e-17]\n",
      "[[ 0.58428153  0.73595785  0.40824829]\n",
      " [ 0.80407569 -0.38198836 -0.81649658]\n",
      " [ 0.10989708 -0.55897311  0.40824829]]\n"
     ]
    }
   ],
   "source": [
    "import numpy as np\n",
    "from numpy import linalg as LA \n",
    "A = np.array([[1,2,3],[3,2,1],[1,0,-1]])\n",
    "w,v = LA.eig(A)\n",
    "print(w)\n",
    "print(v)"
   ]
  },
  {
   "cell_type": "code",
   "execution_count": 45,
   "id": "e3304ce1-aa29-49d1-9f40-6d9ce921533a",
   "metadata": {},
   "outputs": [
    {
     "name": "stdout",
     "output_type": "stream",
     "text": [
      "32\n"
     ]
    }
   ],
   "source": [
    "import numpy as np\n",
    "from numpy import random\n",
    "x= random.randint(100)\n",
    "print(x)\n"
   ]
  },
  {
   "cell_type": "code",
   "execution_count": 47,
   "id": "acb379e0-81ce-4707-8f64-8c4a34621792",
   "metadata": {},
   "outputs": [
    {
     "name": "stdout",
     "output_type": "stream",
     "text": [
      "0.07891911350458769\n"
     ]
    }
   ],
   "source": [
    "import numpy as np\n",
    "from numpy import random\n",
    "x= random.rand()\n",
    "print(x)\n"
   ]
  },
  {
   "cell_type": "code",
   "execution_count": 49,
   "id": "5265e0cb-1aaf-4fd0-b08a-6e0cd56c464e",
   "metadata": {},
   "outputs": [
    {
     "name": "stdout",
     "output_type": "stream",
     "text": [
      "[15 86 77 25 95]\n"
     ]
    }
   ],
   "source": [
    "import numpy as np\n",
    "from numpy import random\n",
    "x=random.randint(100, size=(5))\n",
    "print(x)"
   ]
  },
  {
   "cell_type": "code",
   "execution_count": 59,
   "id": "bec88e83-d730-436c-87ef-5f5ef1dc7452",
   "metadata": {},
   "outputs": [
    {
     "name": "stdout",
     "output_type": "stream",
     "text": [
      "[7 7 3 5 7 7 7 7 3 7]\n"
     ]
    }
   ],
   "source": [
    "import numpy as np\n",
    "from numpy import random\n",
    "x = random.choice([3, 5, 7, 9], p=[0.1, 0.3, 0.6, 0.0],size=(10))\n",
    "print(x)"
   ]
  },
  {
   "cell_type": "code",
   "execution_count": 61,
   "id": "26f1d40f-adf0-475c-9912-148988bc61ce",
   "metadata": {},
   "outputs": [
    {
     "name": "stdout",
     "output_type": "stream",
     "text": [
      "[[5 7 7 7]\n",
      " [5 7 7 3]]\n"
     ]
    }
   ],
   "source": [
    "import numpy as np\n",
    "from numpy import random\n",
    "x = random.choice([3, 5, 7, 9], p=[0.1, 0.3, 0.6, 0.0],size=(2,4))\n",
    "print(x)"
   ]
  },
  {
   "cell_type": "code",
   "execution_count": 65,
   "id": "b7436576-5ff0-47f3-8f28-8c3e94f1e438",
   "metadata": {},
   "outputs": [
    {
     "name": "stderr",
     "output_type": "stream",
     "text": [
      "C:\\Users\\amees\\AppData\\Local\\Temp\\ipykernel_24972\\2112960640.py:5: UserWarning: \n",
      "\n",
      "`distplot` is a deprecated function and will be removed in seaborn v0.14.0.\n",
      "\n",
      "Please adapt your code to use either `displot` (a figure-level function with\n",
      "similar flexibility) or `histplot` (an axes-level function for histograms).\n",
      "\n",
      "For a guide to updating your code to use the new functions, please see\n",
      "https://gist.github.com/mwaskom/de44147ed2974457ad6372750bbe5751\n",
      "\n",
      "  sns.distplot(random.normal(size=1000), hist=True)\n"
     ]
    },
    {
     "data": {
      "image/png": "[encoded data removed]",
      "text/plain": [
       "<Figure size 640x480 with 1 Axes>"
      ]
     },
     "metadata": {},
     "output_type": "display_data"
    }
   ],
   "source": [
    "import numpy as np\n",
    "from numpy import random\n",
    "import matplotlib.pyplot as plt\n",
    "import seaborn as sns\n",
    "sns.distplot(random.normal(size=1000), hist=True)\n",
    "plt.show()"
   ]
  },
  {
   "cell_type": "code",
   "execution_count": 67,
   "id": "74194229-3ec1-40f4-ad00-6b0c0c1d3d12",
   "metadata": {},
   "outputs": [
    {
     "name": "stderr",
     "output_type": "stream",
     "text": [
      "C:\\Users\\amees\\AppData\\Local\\Temp\\ipykernel_24972\\3209143617.py:5: UserWarning: \n",
      "\n",
      "`distplot` is a deprecated function and will be removed in seaborn v0.14.0.\n",
      "\n",
      "Please adapt your code to use either `displot` (a figure-level function with\n",
      "similar flexibility) or `kdeplot` (an axes-level function for kernel density plots).\n",
      "\n",
      "For a guide to updating your code to use the new functions, please see\n",
      "https://gist.github.com/mwaskom/de44147ed2974457ad6372750bbe5751\n",
      "\n",
      "  sns.distplot(random.normal(size=1000), hist=False)\n"
     ]
    },
    {
     "data": {
      "image/png": "[encoded data removed]",
      "text/plain": [
       "<Figure size 640x480 with 1 Axes>"
      ]
     },
     "metadata": {},
     "output_type": "display_data"
    }
   ],
   "source": [
    "import numpy as np\n",
    "from numpy import random\n",
    "import matplotlib.pyplot as plt\n",
    "import seaborn as sns\n",
    "sns.distplot(random.normal(size=1000), hist=False)\n",
    "plt.show()"
   ]
  },
  {
   "cell_type": "code",
   "execution_count": 69,
   "id": "0472b238-4c38-4fd1-ab58-4bb62bd51351",
   "metadata": {},
   "outputs": [
    {
     "name": "stdout",
     "output_type": "stream",
     "text": [
      "[3 4 6 5 5 4 5 6 1 5]\n"
     ]
    }
   ],
   "source": [
    "from numpy import random\n",
    "x = random.binomial(n=10, p=0.5, size=10)\n",
    "print(x)"
   ]
  },
  {
   "cell_type": "code",
   "execution_count": 71,
   "id": "198f281a-c1e4-4f1f-8d11-077a27d23bf5",
   "metadata": {},
   "outputs": [
    {
     "name": "stdout",
     "output_type": "stream",
     "text": [
      "[1 0 2 1 4 2 1 2 2 1]\n"
     ]
    }
   ],
   "source": [
    "#poissons\n",
    "from numpy import random\n",
    "x= random.poisson(lam=2,size=10)\n",
    "print(x)"
   ]
  },
  {
   "cell_type": "code",
   "execution_count": 73,
   "id": "1c9653d0-1057-46bd-9779-b43efb370859",
   "metadata": {},
   "outputs": [
    {
     "name": "stdout",
     "output_type": "stream",
     "text": [
      "[[0.91768987 0.58303196 0.89252468]\n",
      " [0.23639075 0.86378249 0.82431321]]\n"
     ]
    }
   ],
   "source": [
    "#uniform \n",
    "from numpy import random\n",
    "x= random.uniform (size=(2,3))\n",
    "print(x)"
   ]
  },
  {
   "cell_type": "code",
   "execution_count": 75,
   "id": "f15c0246-a88b-4fa3-aa1c-c4b1e2d23fe5",
   "metadata": {},
   "outputs": [
    {
     "name": "stdout",
     "output_type": "stream",
     "text": [
      "[[0.02447688 0.7786432  0.2554851 ]\n",
      " [2.74632731 8.48098505 4.69554671]]\n"
     ]
    }
   ],
   "source": [
    "#chi square\n",
    "from numpy import random\n",
    "x = random.chisquare(df=2, size=(2, 3))\n",
    "print(x)"
   ]
  },
  {
   "cell_type": "code",
   "execution_count": null,
   "id": "b1064365-e016-4c98-87db-830624294179",
   "metadata": {},
   "outputs": [],
   "source": []
  }
 ],
 "metadata": {
  "kernelspec": {
   "display_name": "Python 3 (ipykernel)",
   "language": "python",
   "name": "python3"
  },
  "language_info": {
   "codemirror_mode": {
    "name": "ipython",
    "version": 3
   },
   "file_extension": ".py",
   "mimetype": "text/x-python",
   "name": "python",
   "nbconvert_exporter": "python",
   "pygments_lexer": "ipython3",
   "version": "3.12.4"
  }
 },
 "nbformat": 4,
 "nbformat_minor": 5
}
