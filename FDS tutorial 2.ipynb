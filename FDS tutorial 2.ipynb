{
 "cells": [
  {
   "cell_type": "code",
   "execution_count": 3,
   "id": "3d5b0b5a-c931-43ea-a470-32a777945ec3",
   "metadata": {},
   "outputs": [
    {
     "name": "stdout",
     "output_type": "stream",
     "text": [
      "[[[1, 2, 3, 4], [5, 6, 7, 8], [4, 7, 8, 3]], [[1, 2, 3, 4], [1, 4, 6, 8], [8, 6, 7, 3]], [[7, 4, 5, 6], [3, 4, 1, 2], [6, 7, 3, 4]], [[1, 2, 3, 4], [5, 6, 7, 8], [4, 7, 8, 3]], [[1, 2, 3, 4], [1, 4, 6, 8], [8, 6, 7, 3]], [[7, 4, 5, 6], [3, 4, 1, 2], [6, 7, 3, 4]]]\n"
     ]
    }
   ],
   "source": [
    "# indexing of an array \n",
    "import numpy as np\n",
    "a=np.array1=([[[1,2,3,4],[5,6,7,8],[4,7,8,3]],\n",
    "               [[1,2,3,4],[1,4,6,8],[8,6,7,3]],\n",
    "               [[7,4,5,6],[3,4,1,2],[6,7,3,4]]])\n",
    "\n",
    "b=([[[1,2,3,4],[5,6,7,8],[4,7,8,3]],\n",
    "               [[1,2,3,4],[1,4,6,8],[8,6,7,3]],\n",
    "               [[7,4,5,6],[3,4,1,2],[6,7,3,4]]])\n",
    "print(a+b)"
   ]
  },
  {
   "cell_type": "code",
   "execution_count": 12,
   "id": "d45923da-71db-4a86-a623-f0500ee95a6c",
   "metadata": {},
   "outputs": [
    {
     "name": "stdout",
     "output_type": "stream",
     "text": [
      "[[1 2 3 4]\n",
      " [5 6 7 8]\n",
      " [3 4 6 2]]\n",
      "  C_CONTIGUOUS : True\n",
      "  F_CONTIGUOUS : False\n",
      "  OWNDATA : True\n",
      "  WRITEABLE : True\n",
      "  ALIGNED : True\n",
      "  WRITEBACKIFCOPY : False\n",
      "\n",
      "(3, 4)\n",
      "(16, 4)\n",
      "2\n",
      "<memory at 0x000001E9E4C5E4D0>\n",
      "4\n",
      "None\n",
      "48\n",
      "[[1 5 3]\n",
      " [2 6 4]\n",
      " [3 7 6]\n",
      " [4 8 2]]\n",
      "[[1 2 3 4]\n",
      " [5 6 7 8]\n",
      " [3 4 6 2]]\n",
      "[[0 0 0 0]\n",
      " [0 0 0 0]\n",
      " [0 0 0 0]]\n",
      "12\n"
     ]
    }
   ],
   "source": [
    "import numpy as np \n",
    "arr1 = np.array([[1,2,3,4], [5,6,7,8], [3,4,6,2]])\n",
    "print(arr1)\n",
    "print(arr1.flags)\n",
    "print(arr1.shape)\n",
    "print(arr1.strides)\n",
    "print(arr1.ndim)\n",
    "print(arr1.data)                                                      \n",
    "print(arr1.itemsize)\n",
    "print(arr1.base)\n",
    "print(arr1.nbytes)\n",
    "print(arr1.T)\n",
    "print(arr1.real)\n",
    "print(arr1.imag)\n",
    "print(arr1.size)\n"
   ]
  },
  {
   "cell_type": "code",
   "execution_count": null,
   "id": "74b88d8a-da30-46af-b0fc-43c358899d21",
   "metadata": {},
   "outputs": [],
   "source": []
  },
  {
   "cell_type": "code",
   "execution_count": null,
   "id": "88b00d11-b21d-4c9c-9241-7883ec980f88",
   "metadata": {},
   "outputs": [],
   "source": []
  }
 ],
 "metadata": {
  "kernelspec": {
   "display_name": "Python 3 (ipykernel)",
   "language": "python",
   "name": "python3"
  },
  "language_info": {
   "codemirror_mode": {
    "name": "ipython",
    "version": 3
   },
   "file_extension": ".py",
   "mimetype": "text/x-python",
   "name": "python",
   "nbconvert_exporter": "python",
   "pygments_lexer": "ipython3",
   "version": "3.12.4"
  }
 },
 "nbformat": 4,
 "nbformat_minor": 5
}
